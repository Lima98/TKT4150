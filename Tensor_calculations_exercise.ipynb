{
 "cells": [
  {
   "cell_type": "markdown",
   "metadata": {},
   "source": [
    "# Excercise 2: Computational Stress Analysis\n",
    "### Introduction\n",
    "This is an IPython notebook, for a more general introduction please see this [introduction](https://nbviewer.jupyter.org/github/jupyter/notebook/blob/master/docs/source/examples/Notebook/Notebook%20Basics.ipynb) and [guide](https://nbviewer.jupyter.org/github/jupyter/notebook/blob/master/docs/source/examples/Notebook/Running%20Code.ipynb) where you can download a similar notebooks that are more instructional. This website gives a similar [guide](https://jupyter-notebook-beginner-guide.readthedocs.io/en/latest/). \n",
    "### Save your work!\n",
    "* If you are running this on [tmpnb.org](), remember to save your work by downloading the notebook via clicking `File->Download As` in the toolbar."
   ]
  },
  {
   "cell_type": "markdown",
   "metadata": {},
   "source": [
    "This block of text is called a cell. To edit a cell simply double click on it. When finished editing you may press \"`Shift+Return`\" to \"compile\" or \"typeset\" the cell. Try it with this cell."
   ]
  },
  {
   "cell_type": "code",
   "execution_count": 4,
   "metadata": {},
   "outputs": [],
   "source": [
    "# This cell is a code cell you can put literal python code in here. When you press \"Shift+Return\" or select \n",
    "# Cell->Run Cells in the toolbar at the top of the page this code will exectute.\n",
    "# The next line ensures that plots show up in the document\n",
    "import numpy as np # This line imports a library called numpy which is used to do matrix, vector, and tensor calculations."
   ]
  },
  {
   "cell_type": "markdown",
   "metadata": {},
   "source": [
    "This cell describes the computational problem. We can put an equation in using  Latex, $\\LaTeX$, like the following stress matrix\n",
    "\\begin{equation}\n",
    "\\mathbf{T} = \\begin{bmatrix} 90& -30& 0\\\\ -30& 120& -30 \\\\ 0 &-30&  90 \\end{bmatrix} MPa\n",
    "\\end{equation}\n",
    "which we assume through the remainder of this exercise.\n",
    "\n",
    "Equivalently we can create the tensor in python as follows. Each row is represented as a \"list\" [a1,a2,a3] of the entries."
   ]
  },
  {
   "cell_type": "code",
   "execution_count": 5,
   "metadata": {},
   "outputs": [
    {
     "name": "stdout",
     "output_type": "stream",
     "text": [
      "[[ 90 -30   0]\n",
      " [-30 120 -30]\n",
      " [  0 -30  90]]\n",
      "T=[[ 90 -30   0]\n",
      " [-30 120 -30]\n",
      " [  0 -30  90]]\n"
     ]
    }
   ],
   "source": [
    "T= np.array([[90, -30, 0], \n",
    "            [-30, 120, -30],\n",
    "            [0, -30, 90]])\n",
    "print(T) # If you want to see the value of a variable, like T, simply print it out\n",
    "print(\"T={}\".format(T)) # or you can format it to print out more nicely."
   ]
  },
  {
   "cell_type": "code",
   "execution_count": 6,
   "metadata": {},
   "outputs": [
    {
     "name": "stdout",
     "output_type": "stream",
     "text": [
      "90\n",
      "[ 90 -30   0]\n",
      "[-30 120 -30]\n"
     ]
    }
   ],
   "source": [
    "# Here are some ways to get the values out of T\n",
    "T11 = T[0,0] #Indexing starts from 0\n",
    "print(T11)\n",
    "T1 = T[:,0]\n",
    "print(T1)\n",
    "T1 = T[1,:]\n",
    "print(T1)"
   ]
  },
  {
   "cell_type": "markdown",
   "metadata": {},
   "source": [
    "### Problems"
   ]
  },
  {
   "cell_type": "markdown",
   "metadata": {},
   "source": [
    "### Part a)\n",
    "For the given tensor $\\mathbf{T}$, establish the principal stresses $\\sigma_1$, $\\sigma_2$ and $\\sigma_3$, and the corresponding directions $\\mathbf{n}_1$, $\\mathbf{n}_2$ and $\\mathbf{n}_3$ with hand-calculations."
   ]
  },
  {
   "cell_type": "code",
   "execution_count": null,
   "metadata": {},
   "outputs": [],
   "source": [
    "# Do this by hand"
   ]
  },
  {
   "cell_type": "markdown",
   "metadata": {},
   "source": [
    "### Part b)\n",
    "b) Find the numerical values for the three stress invariants $I$, $II$ and $III$ both by hand and using numpy functions like np.dot for matrix multiplication, np.linalg has many "
   ]
  },
  {
   "cell_type": "code",
   "execution_count": null,
   "metadata": {
    "collapsed": true
   },
   "outputs": [],
   "source": [
    "# Putting two question marks after something will bring up the help or documentation for it upon executing the cell.\n",
    "np.transpose??"
   ]
  },
  {
   "cell_type": "code",
   "execution_count": null,
   "metadata": {},
   "outputs": [],
   "source": [
    "np.dot??"
   ]
  },
  {
   "cell_type": "code",
   "execution_count": null,
   "metadata": {
    "collapsed": true
   },
   "outputs": [],
   "source": [
    "np.linalg??"
   ]
  },
  {
   "cell_type": "markdown",
   "metadata": {},
   "source": [
    "### Part b)\n",
    "Use the invariants to establish the characteristic polynomial from the eigenvalue problem. Furthermore, plot the polynomial and graphically determine the principal stresses."
   ]
  },
  {
   "cell_type": "code",
   "execution_count": 8,
   "metadata": {
    "collapsed": true
   },
   "outputs": [],
   "source": [
    "# Replace these invariants with your own\n",
    "I =1.0\n",
    "II = 2.0\n",
    "III = 3.0\n",
    "# This creates a function which we call polynomial, and this function can be evaluated for different x values\n",
    "polynomial = lambda x: III*x**3 + II*x**2 - I*x\n",
    "# Remember to replace this with the correct characteristic polynomial."
   ]
  },
  {
   "cell_type": "code",
   "execution_count": 9,
   "metadata": {},
   "outputs": [
    {
     "data": {
      "text/plain": [
       "[<matplotlib.lines.Line2D at 0x1187c5950>]"
      ]
     },
     "execution_count": 9,
     "metadata": {},
     "output_type": "execute_result"
    },
    {
     "data": {
      "image/png": "[encoded data removed]",
      "text/plain": [
       "<Figure size 640x480 with 1 Axes>"
      ]
     },
     "metadata": {},
     "output_type": "display_data"
    }
   ],
   "source": [
    "from matplotlib import pyplot as plt\n",
    "lower_bound = -3\n",
    "upper_bound = 3\n",
    "n_pts = 50\n",
    "xvals = np.linspace(lower_bound,upper_bound,n_pts) # Define points at which to evaluate the polynomial\n",
    "plt.plot(xvals,polynomial(xvals)) # Plot the polynomial at those points\n",
    "plt.plot(xvals,0*xvals) # Plot a horizontal line at y=0 at the same points"
   ]
  },
  {
   "cell_type": "code",
   "execution_count": 10,
   "metadata": {},
   "outputs": [
    {
     "data": {
      "text/plain": [
       "[<matplotlib.lines.Line2D at 0x118932210>]"
      ]
     },
     "execution_count": 10,
     "metadata": {},
     "output_type": "execute_result"
    },
    {
     "data": {
      "image/png": "[encoded data removed]",
      "text/plain": [
       "<Figure size 640x480 with 1 Axes>"
      ]
     },
     "metadata": {},
     "output_type": "display_data"
    },
    {
     "name": "stdout",
     "output_type": "stream",
     "text": [
      "\u001b[31mSignature:\u001b[39m      \n",
      "np.linspace(\n",
      "    start,\n",
      "    stop,\n",
      "    num=\u001b[32m50\u001b[39m,\n",
      "    endpoint=\u001b[38;5;28;01mTrue\u001b[39;00m,\n",
      "    retstep=\u001b[38;5;28;01mFalse\u001b[39;00m,\n",
      "    dtype=\u001b[38;5;28;01mNone\u001b[39;00m,\n",
      "    axis=\u001b[32m0\u001b[39m,\n",
      "    *,\n",
      "    device=\u001b[38;5;28;01mNone\u001b[39;00m,\n",
      ")\n",
      "\u001b[31mCall signature:\u001b[39m  np.linspace(*args, **kwargs)\n",
      "\u001b[31mType:\u001b[39m            _ArrayFunctionDispatcher\n",
      "\u001b[31mString form:\u001b[39m     <function linspace at 0x10bf977e0>\n",
      "\u001b[31mFile:\u001b[39m            ~/Documents/arbeid/skole/9. semester/TKT4150 - Biomekanikk/Øvinger/.venv_biomech/lib/python3.13/site-packages/numpy/_core/function_base.py\n",
      "\u001b[31mSource:\u001b[39m         \n",
      "@array_function_dispatch(_linspace_dispatcher)\n",
      "\u001b[38;5;28;01mdef\u001b[39;00m linspace(start, stop, num=\u001b[32m50\u001b[39m, endpoint=\u001b[38;5;28;01mTrue\u001b[39;00m, retstep=\u001b[38;5;28;01mFalse\u001b[39;00m, dtype=\u001b[38;5;28;01mNone\u001b[39;00m,\n",
      "             axis=\u001b[32m0\u001b[39m, *, device=\u001b[38;5;28;01mNone\u001b[39;00m):\n",
      "    \u001b[33m\"\"\"\u001b[39m\n",
      "\u001b[33m    Return evenly spaced numbers over a specified interval.\u001b[39m\n",
      "\n",
      "\u001b[33m    Returns `num` evenly spaced samples, calculated over the\u001b[39m\n",
      "\u001b[33m    interval [`start`, `stop`].\u001b[39m\n",
      "\n",
      "\u001b[33m    The endpoint of the interval can optionally be excluded.\u001b[39m\n",
      "\n",
      "\u001b[33m    .. versionchanged:: 1.20.0\u001b[39m\n",
      "\u001b[33m        Values are rounded towards ``-inf`` instead of ``0`` when an\u001b[39m\n",
      "\u001b[33m        integer ``dtype`` is specified. The old behavior can\u001b[39m\n",
      "\u001b[33m        still be obtained with ``np.linspace(start, stop, num).astype(int)``\u001b[39m\n",
      "\n",
      "\u001b[33m    Parameters\u001b[39m\n",
      "\u001b[33m    ----------\u001b[39m\n",
      "\u001b[33m    start : array_like\u001b[39m\n",
      "\u001b[33m        The starting value of the sequence.\u001b[39m\n",
      "\u001b[33m    stop : array_like\u001b[39m\n",
      "\u001b[33m        The end value of the sequence, unless `endpoint` is set to False.\u001b[39m\n",
      "\u001b[33m        In that case, the sequence consists of all but the last of ``num + 1``\u001b[39m\n",
      "\u001b[33m        evenly spaced samples, so that `stop` is excluded.  Note that the step\u001b[39m\n",
      "\u001b[33m        size changes when `endpoint` is False.\u001b[39m\n",
      "\u001b[33m    num : int, optional\u001b[39m\n",
      "\u001b[33m        Number of samples to generate. Default is 50. Must be non-negative.\u001b[39m\n",
      "\u001b[33m    endpoint : bool, optional\u001b[39m\n",
      "\u001b[33m        If True, `stop` is the last sample. Otherwise, it is not included.\u001b[39m\n",
      "\u001b[33m        Default is True.\u001b[39m\n",
      "\u001b[33m    retstep : bool, optional\u001b[39m\n",
      "\u001b[33m        If True, return (`samples`, `step`), where `step` is the spacing\u001b[39m\n",
      "\u001b[33m        between samples.\u001b[39m\n",
      "\u001b[33m    dtype : dtype, optional\u001b[39m\n",
      "\u001b[33m        The type of the output array.  If `dtype` is not given, the data type\u001b[39m\n",
      "\u001b[33m        is inferred from `start` and `stop`. The inferred dtype will never be\u001b[39m\n",
      "\u001b[33m        an integer; `float` is chosen even if the arguments would produce an\u001b[39m\n",
      "\u001b[33m        array of integers.\u001b[39m\n",
      "\u001b[33m    axis : int, optional\u001b[39m\n",
      "\u001b[33m        The axis in the result to store the samples.  Relevant only if start\u001b[39m\n",
      "\u001b[33m        or stop are array-like.  By default (0), the samples will be along a\u001b[39m\n",
      "\u001b[33m        new axis inserted at the beginning. Use -1 to get an axis at the end.\u001b[39m\n",
      "\u001b[33m    device : str, optional\u001b[39m\n",
      "\u001b[33m        The device on which to place the created array. Default: None.\u001b[39m\n",
      "\u001b[33m        For Array-API interoperability only, so must be ``\"cpu\"`` if passed.\u001b[39m\n",
      "\n",
      "\u001b[33m        .. versionadded:: 2.0.0\u001b[39m\n",
      "\n",
      "\u001b[33m    Returns\u001b[39m\n",
      "\u001b[33m    -------\u001b[39m\n",
      "\u001b[33m    samples : ndarray\u001b[39m\n",
      "\u001b[33m        There are `num` equally spaced samples in the closed interval\u001b[39m\n",
      "\u001b[33m        ``[start, stop]`` or the half-open interval ``[start, stop)``\u001b[39m\n",
      "\u001b[33m        (depending on whether `endpoint` is True or False).\u001b[39m\n",
      "\u001b[33m    step : float, optional\u001b[39m\n",
      "\u001b[33m        Only returned if `retstep` is True\u001b[39m\n",
      "\n",
      "\u001b[33m        Size of spacing between samples.\u001b[39m\n",
      "\n",
      "\n",
      "\u001b[33m    See Also\u001b[39m\n",
      "\u001b[33m    --------\u001b[39m\n",
      "\u001b[33m    arange : Similar to `linspace`, but uses a step size (instead of the\u001b[39m\n",
      "\u001b[33m             number of samples).\u001b[39m\n",
      "\u001b[33m    geomspace : Similar to `linspace`, but with numbers spaced evenly on a log\u001b[39m\n",
      "\u001b[33m                scale (a geometric progression).\u001b[39m\n",
      "\u001b[33m    logspace : Similar to `geomspace`, but with the end points specified as\u001b[39m\n",
      "\u001b[33m               logarithms.\u001b[39m\n",
      "\u001b[33m    :ref:`how-to-partition`\u001b[39m\n",
      "\n",
      "\u001b[33m    Examples\u001b[39m\n",
      "\u001b[33m    --------\u001b[39m\n",
      "\u001b[33m    >>> import numpy as np\u001b[39m\n",
      "\u001b[33m    >>> np.linspace(2.0, 3.0, num=5)\u001b[39m\n",
      "\u001b[33m    array([2.  , 2.25, 2.5 , 2.75, 3.  ])\u001b[39m\n",
      "\u001b[33m    >>> np.linspace(2.0, 3.0, num=5, endpoint=False)\u001b[39m\n",
      "\u001b[33m    array([2. ,  2.2,  2.4,  2.6,  2.8])\u001b[39m\n",
      "\u001b[33m    >>> np.linspace(2.0, 3.0, num=5, retstep=True)\u001b[39m\n",
      "\u001b[33m    (array([2.  ,  2.25,  2.5 ,  2.75,  3.  ]), 0.25)\u001b[39m\n",
      "\n",
      "\u001b[33m    Graphical illustration:\u001b[39m\n",
      "\n",
      "\u001b[33m    >>> import matplotlib.pyplot as plt\u001b[39m\n",
      "\u001b[33m    >>> N = 8\u001b[39m\n",
      "\u001b[33m    >>> y = np.zeros(N)\u001b[39m\n",
      "\u001b[33m    >>> x1 = np.linspace(0, 10, N, endpoint=True)\u001b[39m\n",
      "\u001b[33m    >>> x2 = np.linspace(0, 10, N, endpoint=False)\u001b[39m\n",
      "\u001b[33m    >>> plt.plot(x1, y, 'o')\u001b[39m\n",
      "\u001b[33m    [<matplotlib.lines.Line2D object at 0x...>]\u001b[39m\n",
      "\u001b[33m    >>> plt.plot(x2, y + 0.5, 'o')\u001b[39m\n",
      "\u001b[33m    [<matplotlib.lines.Line2D object at 0x...>]\u001b[39m\n",
      "\u001b[33m    >>> plt.ylim([-0.5, 1])\u001b[39m\n",
      "\u001b[33m    (-0.5, 1)\u001b[39m\n",
      "\u001b[33m    >>> plt.show()\u001b[39m\n",
      "\n",
      "\u001b[33m    \"\"\"\u001b[39m\n",
      "    num = operator.index(num)\n",
      "    \u001b[38;5;28;01mif\u001b[39;00m num < \u001b[32m0\u001b[39m:\n",
      "        \u001b[38;5;28;01mraise\u001b[39;00m ValueError(\n",
      "            f\"Number of samples, {num}, must be non-negative.\"\n",
      "        )\n",
      "    div = (num - \u001b[32m1\u001b[39m) \u001b[38;5;28;01mif\u001b[39;00m endpoint \u001b[38;5;28;01melse\u001b[39;00m num\n",
      "\n",
      "    conv = _array_converter(start, stop)\n",
      "    start, stop = conv.as_arrays()\n",
      "    dt = conv.result_type(ensure_inexact=\u001b[38;5;28;01mTrue\u001b[39;00m)\n",
      "\n",
      "    \u001b[38;5;28;01mif\u001b[39;00m dtype \u001b[38;5;28;01mis\u001b[39;00m \u001b[38;5;28;01mNone\u001b[39;00m:\n",
      "        dtype = dt\n",
      "        integer_dtype = \u001b[38;5;28;01mFalse\u001b[39;00m\n",
      "    \u001b[38;5;28;01melse\u001b[39;00m:\n",
      "        integer_dtype = _nx.issubdtype(dtype, _nx.integer)\n",
      "\n",
      "    \u001b[38;5;66;03m# Use `dtype=type(dt)` to enforce a floating point evaluation:\u001b[39;00m\n",
      "    delta = np.subtract(stop, start, dtype=type(dt))\n",
      "    y = _nx.arange(\n",
      "        \u001b[32m0\u001b[39m, num, dtype=dt, device=device\n",
      "    ).reshape((-\u001b[32m1\u001b[39m,) + (\u001b[32m1\u001b[39m,) * ndim(delta))\n",
      "\n",
      "    \u001b[38;5;66;03m# In-place multiplication y *= delta/div is faster, but prevents\u001b[39;00m\n",
      "    \u001b[38;5;66;03m# the multiplicant from overriding what class is produced, and thus\u001b[39;00m\n",
      "    \u001b[38;5;66;03m# prevents, e.g. use of Quantities, see gh-7142. Hence, we multiply\u001b[39;00m\n",
      "    \u001b[38;5;66;03m# in place only for standard scalar types.\u001b[39;00m\n",
      "    \u001b[38;5;28;01mif\u001b[39;00m div > \u001b[32m0\u001b[39m:\n",
      "        _mult_inplace = _nx.isscalar(delta)\n",
      "        step = delta / div\n",
      "        any_step_zero = (\n",
      "            step == \u001b[32m0\u001b[39m \u001b[38;5;28;01mif\u001b[39;00m _mult_inplace \u001b[38;5;28;01melse\u001b[39;00m _nx.asanyarray(step == \u001b[32m0\u001b[39m).any())\n",
      "        \u001b[38;5;28;01mif\u001b[39;00m any_step_zero:\n",
      "            \u001b[38;5;66;03m# Special handling for denormal numbers, gh-5437\u001b[39;00m\n",
      "            y /= div\n",
      "            \u001b[38;5;28;01mif\u001b[39;00m _mult_inplace:\n",
      "                y *= delta\n",
      "            \u001b[38;5;28;01melse\u001b[39;00m:\n",
      "                y = y * delta\n",
      "        \u001b[38;5;28;01melif\u001b[39;00m _mult_inplace:\n",
      "            y *= step\n",
      "        \u001b[38;5;28;01melse\u001b[39;00m:\n",
      "            y = y * step\n",
      "    \u001b[38;5;28;01melse\u001b[39;00m:\n",
      "        \u001b[38;5;66;03m# sequences with 0 items or 1 item with endpoint=True (i.e. div <= 0)\u001b[39;00m\n",
      "        \u001b[38;5;66;03m# have an undefined step\u001b[39;00m\n",
      "        step = nan\n",
      "        \u001b[38;5;66;03m# Multiply with delta to allow possible override of output class.\u001b[39;00m\n",
      "        y = y * delta\n",
      "\n",
      "    y += start\n",
      "\n",
      "    \u001b[38;5;28;01mif\u001b[39;00m endpoint \u001b[38;5;28;01mand\u001b[39;00m num > \u001b[32m1\u001b[39m:\n",
      "        y[-\u001b[32m1\u001b[39m, ...] = stop\n",
      "\n",
      "    \u001b[38;5;28;01mif\u001b[39;00m axis != \u001b[32m0\u001b[39m:\n",
      "        y = _nx.moveaxis(y, \u001b[32m0\u001b[39m, axis)\n",
      "\n",
      "    \u001b[38;5;28;01mif\u001b[39;00m integer_dtype:\n",
      "        _nx.floor(y, out=y)\n",
      "\n",
      "    y = conv.wrap(y.astype(dtype, copy=\u001b[38;5;28;01mFalse\u001b[39;00m))\n",
      "    \u001b[38;5;28;01mif\u001b[39;00m retstep:\n",
      "        \u001b[38;5;28;01mreturn\u001b[39;00m y, step\n",
      "    \u001b[38;5;28;01melse\u001b[39;00m:\n",
      "        \u001b[38;5;28;01mreturn\u001b[39;00m y\n",
      "\u001b[31mClass docstring:\u001b[39m\n",
      "Class to wrap functions with checks for __array_function__ overrides.\n",
      "\n",
      "All arguments are required, and can only be passed by position.\n",
      "\n",
      "Parameters\n",
      "----------\n",
      "dispatcher : function or None\n",
      "    The dispatcher function that returns a single sequence-like object\n",
      "    of all arguments relevant.  It must have the same signature (except\n",
      "    the default values) as the actual implementation.\n",
      "    If ``None``, this is a ``like=`` dispatcher and the\n",
      "    ``_ArrayFunctionDispatcher`` must be called with ``like`` as the\n",
      "    first (additional and positional) argument.\n",
      "implementation : function\n",
      "    Function that implements the operation on NumPy arrays without\n",
      "    overrides.  Arguments passed calling the ``_ArrayFunctionDispatcher``\n",
      "    will be forwarded to this (and the ``dispatcher``) as if using\n",
      "    ``*args, **kwargs``.\n",
      "\n",
      "Attributes\n",
      "----------\n",
      "_implementation : function\n",
      "    The original implementation passed in."
     ]
    }
   ],
   "source": [
    "lower_bound = -1.2\n",
    "upper_bound = 1.2\n",
    "np.linspace??\n",
    "xvals = np.linspace(lower_bound,upper_bound,n_pts)\n",
    "plt.plot(xvals,polynomial(xvals))\n",
    "plt.plot(xvals,0*xvals)"
   ]
  },
  {
   "cell_type": "markdown",
   "metadata": {},
   "source": [
    "### Part d)\n",
    "Use `fsolve` from the `scipy.optimize` library to find the solutions of the characteristic polynomial."
   ]
  },
  {
   "cell_type": "code",
   "execution_count": 11,
   "metadata": {},
   "outputs": [
    {
     "name": "stdout",
     "output_type": "stream",
     "text": [
      "[-1.]\n"
     ]
    },
    {
     "name": "stdout",
     "output_type": "stream",
     "text": [
      "\u001b[31mSignature:\u001b[39m\n",
      "opt.fsolve(\n",
      "    func,\n",
      "    x0,\n",
      "    args=(),\n",
      "    fprime=\u001b[38;5;28;01mNone\u001b[39;00m,\n",
      "    full_output=\u001b[32m0\u001b[39m,\n",
      "    col_deriv=\u001b[32m0\u001b[39m,\n",
      "    xtol=\u001b[32m1.49012e-08\u001b[39m,\n",
      "    maxfev=\u001b[32m0\u001b[39m,\n",
      "    band=\u001b[38;5;28;01mNone\u001b[39;00m,\n",
      "    epsfcn=\u001b[38;5;28;01mNone\u001b[39;00m,\n",
      "    factor=\u001b[32m100\u001b[39m,\n",
      "    diag=\u001b[38;5;28;01mNone\u001b[39;00m,\n",
      ")\n",
      "\u001b[31mSource:\u001b[39m   \n",
      "\u001b[38;5;28;01mdef\u001b[39;00m fsolve(func, x0, args=(), fprime=\u001b[38;5;28;01mNone\u001b[39;00m, full_output=\u001b[32m0\u001b[39m,\n",
      "           col_deriv=\u001b[32m0\u001b[39m, xtol=\u001b[32m1.49012e-8\u001b[39m, maxfev=\u001b[32m0\u001b[39m, band=\u001b[38;5;28;01mNone\u001b[39;00m,\n",
      "           epsfcn=\u001b[38;5;28;01mNone\u001b[39;00m, factor=\u001b[32m100\u001b[39m, diag=\u001b[38;5;28;01mNone\u001b[39;00m):\n",
      "    \u001b[33m\"\"\"\u001b[39m\n",
      "\u001b[33m    Find the roots of a function.\u001b[39m\n",
      "\n",
      "\u001b[33m    Return the roots of the (non-linear) equations defined by\u001b[39m\n",
      "\u001b[33m    ``func(x) = 0`` given a starting estimate.\u001b[39m\n",
      "\n",
      "\u001b[33m    Parameters\u001b[39m\n",
      "\u001b[33m    ----------\u001b[39m\n",
      "\u001b[33m    func : callable ``f(x, *args)``\u001b[39m\n",
      "\u001b[33m        A function that takes at least one (possibly vector) argument,\u001b[39m\n",
      "\u001b[33m        and returns a value of the same length.\u001b[39m\n",
      "\u001b[33m    x0 : ndarray\u001b[39m\n",
      "\u001b[33m        The starting estimate for the roots of ``func(x) = 0``.\u001b[39m\n",
      "\u001b[33m    args : tuple, optional\u001b[39m\n",
      "\u001b[33m        Any extra arguments to `func`.\u001b[39m\n",
      "\u001b[33m    fprime : callable ``f(x, *args)``, optional\u001b[39m\n",
      "\u001b[33m        A function to compute the Jacobian of `func` with derivatives\u001b[39m\n",
      "\u001b[33m        across the rows. By default, the Jacobian will be estimated.\u001b[39m\n",
      "\u001b[33m    full_output : bool, optional\u001b[39m\n",
      "\u001b[33m        If True, return optional outputs.\u001b[39m\n",
      "\u001b[33m    col_deriv : bool, optional\u001b[39m\n",
      "\u001b[33m        Specify whether the Jacobian function computes derivatives down\u001b[39m\n",
      "\u001b[33m        the columns (faster, because there is no transpose operation).\u001b[39m\n",
      "\u001b[33m    xtol : float, optional\u001b[39m\n",
      "\u001b[33m        The calculation will terminate if the relative error between two\u001b[39m\n",
      "\u001b[33m        consecutive iterates is at most `xtol`.\u001b[39m\n",
      "\u001b[33m    maxfev : int, optional\u001b[39m\n",
      "\u001b[33m        The maximum number of calls to the function. If zero, then\u001b[39m\n",
      "\u001b[33m        ``100*(N+1)`` is the maximum where N is the number of elements\u001b[39m\n",
      "\u001b[33m        in `x0`.\u001b[39m\n",
      "\u001b[33m    band : tuple, optional\u001b[39m\n",
      "\u001b[33m        If set to a two-sequence containing the number of sub- and\u001b[39m\n",
      "\u001b[33m        super-diagonals within the band of the Jacobi matrix, the\u001b[39m\n",
      "\u001b[33m        Jacobi matrix is considered banded (only for ``fprime=None``).\u001b[39m\n",
      "\u001b[33m    epsfcn : float, optional\u001b[39m\n",
      "\u001b[33m        A suitable step length for the forward-difference\u001b[39m\n",
      "\u001b[33m        approximation of the Jacobian (for ``fprime=None``). If\u001b[39m\n",
      "\u001b[33m        `epsfcn` is less than the machine precision, it is assumed\u001b[39m\n",
      "\u001b[33m        that the relative errors in the functions are of the order of\u001b[39m\n",
      "\u001b[33m        the machine precision.\u001b[39m\n",
      "\u001b[33m    factor : float, optional\u001b[39m\n",
      "\u001b[33m        A parameter determining the initial step bound\u001b[39m\n",
      "\u001b[33m        (``factor * || diag * x||``). Should be in the interval\u001b[39m\n",
      "\u001b[33m        ``(0.1, 100)``.\u001b[39m\n",
      "\u001b[33m    diag : sequence, optional\u001b[39m\n",
      "\u001b[33m        N positive entries that serve as a scale factors for the\u001b[39m\n",
      "\u001b[33m        variables.\u001b[39m\n",
      "\n",
      "\u001b[33m    Returns\u001b[39m\n",
      "\u001b[33m    -------\u001b[39m\n",
      "\u001b[33m    x : ndarray\u001b[39m\n",
      "\u001b[33m        The solution (or the result of the last iteration for\u001b[39m\n",
      "\u001b[33m        an unsuccessful call).\u001b[39m\n",
      "\u001b[33m    infodict : dict\u001b[39m\n",
      "\u001b[33m        A dictionary of optional outputs with the keys:\u001b[39m\n",
      "\n",
      "\u001b[33m        ``nfev``\u001b[39m\n",
      "\u001b[33m            number of function calls\u001b[39m\n",
      "\u001b[33m        ``njev``\u001b[39m\n",
      "\u001b[33m            number of Jacobian calls\u001b[39m\n",
      "\u001b[33m        ``fvec``\u001b[39m\n",
      "\u001b[33m            function evaluated at the output\u001b[39m\n",
      "\u001b[33m        ``fjac``\u001b[39m\n",
      "\u001b[33m            the orthogonal matrix, q, produced by the QR\u001b[39m\n",
      "\u001b[33m            factorization of the final approximate Jacobian\u001b[39m\n",
      "\u001b[33m            matrix, stored column wise\u001b[39m\n",
      "\u001b[33m        ``r``\u001b[39m\n",
      "\u001b[33m            upper triangular matrix produced by QR factorization\u001b[39m\n",
      "\u001b[33m            of the same matrix\u001b[39m\n",
      "\u001b[33m        ``qtf``\u001b[39m\n",
      "\u001b[33m            the vector ``(transpose(q) * fvec)``\u001b[39m\n",
      "\n",
      "\u001b[33m    ier : int\u001b[39m\n",
      "\u001b[33m        An integer flag.  Set to 1 if a solution was found, otherwise refer\u001b[39m\n",
      "\u001b[33m        to `mesg` for more information.\u001b[39m\n",
      "\u001b[33m    mesg : str\u001b[39m\n",
      "\u001b[33m        If no solution is found, `mesg` details the cause of failure.\u001b[39m\n",
      "\n",
      "\u001b[33m    See Also\u001b[39m\n",
      "\u001b[33m    --------\u001b[39m\n",
      "\u001b[33m    root : Interface to root finding algorithms for multivariate\u001b[39m\n",
      "\u001b[33m           functions. See the ``method='hybr'`` in particular.\u001b[39m\n",
      "\n",
      "\u001b[33m    Notes\u001b[39m\n",
      "\u001b[33m    -----\u001b[39m\n",
      "\u001b[33m    ``fsolve`` is a wrapper around MINPACK's hybrd and hybrj algorithms.\u001b[39m\n",
      "\n",
      "\u001b[33m    Examples\u001b[39m\n",
      "\u001b[33m    --------\u001b[39m\n",
      "\u001b[33m    Find a solution to the system of equations:\u001b[39m\n",
      "\u001b[33m    ``x0*cos(x1) = 4,  x1*x0 - x1 = 5``.\u001b[39m\n",
      "\n",
      "\u001b[33m    >>> import numpy as np\u001b[39m\n",
      "\u001b[33m    >>> from scipy.optimize import fsolve\u001b[39m\n",
      "\u001b[33m    >>> def func(x):\u001b[39m\n",
      "\u001b[33m    ...     return [x[0] * np.cos(x[1]) - 4,\u001b[39m\n",
      "\u001b[33m    ...             x[1] * x[0] - x[1] - 5]\u001b[39m\n",
      "\u001b[33m    >>> root = fsolve(func, [1, 1])\u001b[39m\n",
      "\u001b[33m    >>> root\u001b[39m\n",
      "\u001b[33m    array([6.50409711, 0.90841421])\u001b[39m\n",
      "\u001b[33m    >>> np.isclose(func(root), [0.0, 0.0])  # func(root) should be almost 0.0.\u001b[39m\n",
      "\u001b[33m    array([ True,  True])\u001b[39m\n",
      "\n",
      "\u001b[33m    \"\"\"\u001b[39m\n",
      "    \u001b[38;5;28;01mdef\u001b[39;00m _wrapped_func(*fargs):\n",
      "        \u001b[33m\"\"\"\u001b[39m\n",
      "\u001b[33m        Wrapped `func` to track the number of times\u001b[39m\n",
      "\u001b[33m        the function has been called.\u001b[39m\n",
      "\u001b[33m        \"\"\"\u001b[39m\n",
      "        _wrapped_func.nfev += \u001b[32m1\u001b[39m\n",
      "        \u001b[38;5;28;01mreturn\u001b[39;00m func(*fargs)\n",
      "\n",
      "    _wrapped_func.nfev = \u001b[32m0\u001b[39m\n",
      "\n",
      "    options = {\u001b[33m'col_deriv'\u001b[39m: col_deriv,\n",
      "               \u001b[33m'xtol'\u001b[39m: xtol,\n",
      "               \u001b[33m'maxfev'\u001b[39m: maxfev,\n",
      "               \u001b[33m'band'\u001b[39m: band,\n",
      "               \u001b[33m'eps'\u001b[39m: epsfcn,\n",
      "               \u001b[33m'factor'\u001b[39m: factor,\n",
      "               \u001b[33m'diag'\u001b[39m: diag}\n",
      "\n",
      "    res = _root_hybr(_wrapped_func, x0, args, jac=fprime, **options)\n",
      "    res.nfev = _wrapped_func.nfev\n",
      "\n",
      "    \u001b[38;5;28;01mif\u001b[39;00m full_output:\n",
      "        x = res[\u001b[33m'x'\u001b[39m]\n",
      "        info = {k: res.get(k)\n",
      "                    \u001b[38;5;28;01mfor\u001b[39;00m k \u001b[38;5;28;01min\u001b[39;00m (\u001b[33m'nfev'\u001b[39m, \u001b[33m'njev'\u001b[39m, \u001b[33m'fjac'\u001b[39m, \u001b[33m'r'\u001b[39m, \u001b[33m'qtf'\u001b[39m) \u001b[38;5;28;01mif\u001b[39;00m k \u001b[38;5;28;01min\u001b[39;00m res}\n",
      "        info[\u001b[33m'fvec'\u001b[39m] = res[\u001b[33m'fun'\u001b[39m]\n",
      "        \u001b[38;5;28;01mreturn\u001b[39;00m x, info, res[\u001b[33m'status'\u001b[39m], res[\u001b[33m'message'\u001b[39m]\n",
      "    \u001b[38;5;28;01melse\u001b[39;00m:\n",
      "        status = res[\u001b[33m'status'\u001b[39m]\n",
      "        msg = res[\u001b[33m'message'\u001b[39m]\n",
      "        \u001b[38;5;28;01mif\u001b[39;00m status == \u001b[32m0\u001b[39m:\n",
      "            \u001b[38;5;28;01mraise\u001b[39;00m TypeError(msg)\n",
      "        \u001b[38;5;28;01melif\u001b[39;00m status == \u001b[32m1\u001b[39m:\n",
      "            \u001b[38;5;28;01mpass\u001b[39;00m\n",
      "        \u001b[38;5;28;01melif\u001b[39;00m status \u001b[38;5;28;01min\u001b[39;00m [\u001b[32m2\u001b[39m, \u001b[32m3\u001b[39m, \u001b[32m4\u001b[39m, \u001b[32m5\u001b[39m]:\n",
      "            warnings.warn(msg, RuntimeWarning, stacklevel=\u001b[32m2\u001b[39m)\n",
      "        \u001b[38;5;28;01melse\u001b[39;00m:\n",
      "            \u001b[38;5;28;01mraise\u001b[39;00m TypeError(msg)\n",
      "        \u001b[38;5;28;01mreturn\u001b[39;00m res[\u001b[33m'x'\u001b[39m]\n",
      "\u001b[31mFile:\u001b[39m      ~/Documents/arbeid/skole/9. semester/TKT4150 - Biomekanikk/Øvinger/.venv_biomech/lib/python3.13/site-packages/scipy/optimize/_minpack_py.py\n",
      "\u001b[31mType:\u001b[39m      function"
     ]
    }
   ],
   "source": [
    "from scipy import optimize as opt\n",
    "opt.fsolve??\n",
    "initial_guess = -2\n",
    "print(opt.fsolve(polynomial,initial_guess))"
   ]
  },
  {
   "cell_type": "markdown",
   "metadata": {},
   "source": [
    "### Part e)\n",
    "Use `eig` to directly solve for the principal stresses and corresponding directions."
   ]
  },
  {
   "cell_type": "code",
   "execution_count": null,
   "metadata": {},
   "outputs": [],
   "source": [
    "np.linalg.eig??"
   ]
  },
  {
   "cell_type": "markdown",
   "metadata": {},
   "source": [
    "### Part f)\n",
    "Plot the principal direction vectors $\\mathbf{n}_i$ (i=1,2,3)."
   ]
  },
  {
   "cell_type": "code",
   "execution_count": null,
   "metadata": {},
   "outputs": [],
   "source": [
    "#Suppose we have one vector [0.7,0.5,0.33]\n",
    "xvals = [0,0.7]\n",
    "yvals = [0,0.5]\n",
    "zvals = [0,.33]\n",
    "\n",
    "\n",
    "from mpl_toolkits.mplot3d import Axes3D\n",
    "fig = plt.figure()\n",
    "ax = fig.gca(projection='3d')\n",
    "#ax.plot??\n",
    "ax.plot(xvals,yvals,zvals,'-ro')\n",
    "ax.set_xlabel('x_1')\n",
    "plt.show()\n",
    "\n",
    "## Change the view\n",
    "fig = plt.figure()\n",
    "ax = fig.gca(projection='3d')\n",
    "ax.plot(xvals,yvals,zvals,'-ro')\n",
    "ax.set_xlabel('x_1')\n",
    "ax.view_init(elev=30, azim=45) \n",
    "plt.show()"
   ]
  },
  {
   "cell_type": "markdown",
   "metadata": {},
   "source": [
    "### Part g) \n",
    "The maximum shear stress is found in an orientation between the directions of the smallest and largest principal stresses, $\\sigma_1$ and $\\sigma_3$, and in the plane normal to the direction of $\\sigma_2$. Determine the orientation (i.e. direction vector) where the stress element gets the largest shear stress, and the numerical value of this stress. Plot this direction vector together with the vectors in f)."
   ]
  },
  {
   "cell_type": "code",
   "execution_count": null,
   "metadata": {
    "collapsed": true
   },
   "outputs": [],
   "source": []
  }
 ],
 "metadata": {
  "kernelspec": {
   "display_name": ".venv_biomech (3.13.3)",
   "language": "python",
   "name": "python3"
  },
  "language_info": {
   "codemirror_mode": {
    "name": "ipython",
    "version": 3
   },
   "file_extension": ".py",
   "mimetype": "text/x-python",
   "name": "python",
   "nbconvert_exporter": "python",
   "pygments_lexer": "ipython3",
   "version": "3.13.3"
  }
 },
 "nbformat": 4,
 "nbformat_minor": 1
}
